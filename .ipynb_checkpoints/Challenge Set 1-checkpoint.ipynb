{
 "cells": [
  {
   "cell_type": "code",
   "execution_count": 8,
   "id": "764a94fa",
   "metadata": {},
   "outputs": [],
   "source": [
    "import base64"
   ]
  },
  {
   "cell_type": "code",
   "execution_count": 10,
   "id": "7e41c525",
   "metadata": {},
   "outputs": [],
   "source": [
    "#Challenge 1 Hex to Base64"
   ]
  },
  {
   "cell_type": "code",
   "execution_count": 7,
   "id": "1d1681c7",
   "metadata": {},
   "outputs": [
    {
     "name": "stdout",
     "output_type": "stream",
     "text": [
      "SSdtIGtpbGxpbmcgeW91ciBicmFpbiBsaWtlIGEgcG9pc29ub3VzIG11c2hyb29t\n"
     ]
    }
   ],
   "source": [
    "hex_string = '49276d206b696c6c696e6720796f757220627261696e206c696b65206120706f69736f6e6f7573206d757368726f6f6d'\n",
    "print(base64.b64encode(bytes.fromhex(hex_string)).decode())"
   ]
  },
  {
   "cell_type": "code",
   "execution_count": 11,
   "id": "3c65a844",
   "metadata": {},
   "outputs": [],
   "source": [
    "#Challenge 2 Fixed XOR"
   ]
  },
  {
   "cell_type": "code",
   "execution_count": 14,
   "id": "7cb42cbf",
   "metadata": {},
   "outputs": [
    {
     "name": "stdout",
     "output_type": "stream",
     "text": [
      "0x746865206b696420646f6e277420706c6179\n"
     ]
    }
   ],
   "source": [
    "first_string = '1c0111001f010100061a024b53535009181c'\n",
    "second_string = '686974207468652062756c6c277320657965'\n",
    "final_string = hex(int(first_string,16)^int(second_string,16))\n",
    "print(final_string)"
   ]
  },
  {
   "cell_type": "code",
   "execution_count": null,
   "id": "5e9de10e",
   "metadata": {},
   "outputs": [],
   "source": [
    "#Challenge 3 singular XOR"
   ]
  },
  {
   "cell_type": "code",
   "execution_count": 19,
   "id": "4addc711",
   "metadata": {},
   "outputs": [],
   "source": [
    "import string"
   ]
  },
  {
   "cell_type": "code",
   "execution_count": null,
   "id": "140d3582",
   "metadata": {},
   "outputs": [],
   "source": []
  }
 ],
 "metadata": {
  "kernelspec": {
   "display_name": "Python 3 (ipykernel)",
   "language": "python",
   "name": "python3"
  },
  "language_info": {
   "codemirror_mode": {
    "name": "ipython",
    "version": 3
   },
   "file_extension": ".py",
   "mimetype": "text/x-python",
   "name": "python",
   "nbconvert_exporter": "python",
   "pygments_lexer": "ipython3",
   "version": "3.10.1"
  }
 },
 "nbformat": 4,
 "nbformat_minor": 5
}
